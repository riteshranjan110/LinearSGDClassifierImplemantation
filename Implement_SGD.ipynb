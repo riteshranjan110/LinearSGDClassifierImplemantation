{
 "cells": [
  {
   "cell_type": "code",
   "execution_count": 1,
   "metadata": {
    "colab": {},
    "colab_type": "code",
    "id": "REYPoTJ1Af7u"
   },
   "outputs": [],
   "source": [
    "import warnings\n",
    "warnings.filterwarnings(\"ignore\")\n",
    "from sklearn.datasets import load_boston\n",
    "from random import seed\n",
    "from random import randrange\n",
    "from csv import reader\n",
    "from math import sqrt\n",
    "from sklearn import preprocessing\n",
    "import pandas as pd\n",
    "import numpy as np\n",
    "import matplotlib.pyplot as plt\n",
    "from prettytable import PrettyTable\n",
    "from sklearn.linear_model import SGDRegressor\n",
    "from sklearn import preprocessing\n",
    "from sklearn.metrics import mean_squared_error"
   ]
  },
  {
   "cell_type": "code",
   "execution_count": 49,
   "metadata": {
    "colab": {},
    "colab_type": "code",
    "id": "NTQ2iH-kAwbo"
   },
   "outputs": [],
   "source": [
    "X = load_boston().data\n",
    "Y = load_boston().target"
   ]
  },
  {
   "cell_type": "code",
   "execution_count": 50,
   "metadata": {
    "colab": {},
    "colab_type": "code",
    "id": "FgUW39s6Be0U"
   },
   "outputs": [],
   "source": [
    "scaler = preprocessing.StandardScaler().fit(X)\n",
    "X = scaler.transform(X)"
   ]
  },
  {
   "cell_type": "code",
   "execution_count": 173,
   "metadata": {
    "colab": {
     "base_uri": "https://localhost:8080/",
     "height": 34
    },
    "colab_type": "code",
    "executionInfo": {
     "elapsed": 879,
     "status": "ok",
     "timestamp": 1545718892607,
     "user": {
      "displayName": "Applied AI Course",
      "photoUrl": "https://lh5.googleusercontent.com/-9_3A9F-kDXs/AAAAAAAAAAI/AAAAAAAAACw/IprjYvUuoXQ/s64/photo.jpg",
      "userId": "00484516897554883881"
     },
     "user_tz": -330
    },
    "id": "HNu1sXtEBBS2",
    "outputId": "a0c5d3d0-345c-4a34-8ccf-0d9f3d7d23fd"
   },
   "outputs": [
    {
     "name": "stdout",
     "output_type": "stream",
     "text": [
      "21.902843787689253\n"
     ]
    },
    {
     "name": "stderr",
     "output_type": "stream",
     "text": [
      "c:\\users\\rites\\appdata\\local\\programs\\python\\python36\\lib\\site-packages\\sklearn\\linear_model\\stochastic_gradient.py:117: DeprecationWarning: n_iter parameter is deprecated in 0.19 and will be removed in 0.21. Use max_iter and tol instead.\n",
      "  DeprecationWarning)\n"
     ]
    }
   ],
   "source": [
    "clf = SGDRegressor(n_iter=1000)\n",
    "clf.fit(X, Y)\n",
    "print(mean_squared_error(Y, clf.predict(X)))"
   ]
  },
  {
   "cell_type": "markdown",
   "metadata": {},
   "source": [
    "<h2>Custom SGD Regressor</h2>"
   ]
  },
  {
   "cell_type": "code",
   "execution_count": 174,
   "metadata": {},
   "outputs": [],
   "source": [
    "class MySGD:\n",
    "    def __init__(self):\n",
    "        self.weight_vect = list() # This weight vector is accessible to all methods of a particular instance of class.\n",
    "    \n",
    "    def predict_yi(self,X_i):\n",
    "        Y_i = self.weight_vect[0]   # Initializing Y_i with W[0]. Here W[0] is b0 of the equation Yi = b0 + b1*x1 + .....+bn*xn\n",
    "        #print(X_i.shape)\n",
    "        for i in range(len(X_i)):\n",
    "            Y_i += X_i[i]*self.weight_vect[i+1]   # Yi = b0 + b1*x1 + .....+bn*xn  \n",
    "        return Y_i\n",
    "    \n",
    "    \n",
    "    def fit(self,X_train,Y,n_iter=1000,lrn_rate=0.001):\n",
    "        W = np.zeros(len(X_train[0])+1) # Initilalizing Weight vectors with length n+1 as coefficients are from b0 to bn.\n",
    "        self.weight_vect = W\n",
    "        #print(\"In fit method\",len(seW))\n",
    "        for k in range(n_iter):\n",
    "            sum_error = 0\n",
    "            i=0\n",
    "            for row in X_train:\n",
    "                error = self.predict_yi(row)-Y[i]\n",
    "                #print(error)\n",
    "                i += 1\n",
    "                sum_error += error**2  # storing squared error to understand the improvement of model. \n",
    "                W[0] = W[0] - 2*lrn_rate*error  # Updating coefficient b0\n",
    "                for j in range(len(row)):\n",
    "                    W[j+1] = W[j+1] -2*lrn_rate*error*row[j]  # Updating Weight vector \n",
    "            self.weight_vect = W\n",
    "            \n",
    "    def predict(self,X_i):\n",
    "        Y1 = []\n",
    "        for row in X_i:\n",
    "            Y1.append(self.predict_yi(row))\n",
    "        return Y1"
   ]
  },
  {
   "cell_type": "code",
   "execution_count": 175,
   "metadata": {},
   "outputs": [],
   "source": [
    "# Training my custom model \n",
    "model = MySGD()\n",
    "model.fit(X,Y)"
   ]
  },
  {
   "cell_type": "markdown",
   "metadata": {},
   "source": [
    "<h3>MSE of custom and sklearn's SGD</h3>"
   ]
  },
  {
   "cell_type": "code",
   "execution_count": 176,
   "metadata": {},
   "outputs": [
    {
     "name": "stdout",
     "output_type": "stream",
     "text": [
      "MSE of Custom SGD 22.34230911750648\n",
      "MSE of Sklearn's SGD 21.902843787689253\n"
     ]
    }
   ],
   "source": [
    "print(\"MSE of Custom SGD\",mean_squared_error(Y,model.predict(X)))\n",
    "print(\"MSE of Sklearn's SGD\",mean_squared_error(Y,clf.predict(X)))"
   ]
  },
  {
   "cell_type": "markdown",
   "metadata": {},
   "source": [
    "<h3>Chart of Actual Yi Vs Custom SGD Predicted Yi</h3>"
   ]
  },
  {
   "cell_type": "code",
   "execution_count": 177,
   "metadata": {},
   "outputs": [
    {
     "data": {
      "image/png": "[encoded data removed]",
      "text/plain": [
       "<Figure size 432x288 with 1 Axes>"
      ]
     },
     "metadata": {
      "needs_background": "light"
     },
     "output_type": "display_data"
    }
   ],
   "source": [
    "import matplotlib.pyplot as plt\n",
    "plt.scatter(Y,model.predict(X))\n",
    "plt.title(\"Actual Yi Vs Predicted Yi\")\n",
    "plt.xlabel(\"Actual Yi\")\n",
    "plt.ylabel(\"Predicted Yi\")\n",
    "plt.show()"
   ]
  },
  {
   "cell_type": "markdown",
   "metadata": {},
   "source": [
    "<h3>Chart of Actual Yi Vs Sklearn's SGD Predicted Yi</h3>"
   ]
  },
  {
   "cell_type": "code",
   "execution_count": 178,
   "metadata": {},
   "outputs": [
    {
     "data": {
      "image/png": "[encoded data removed]",
      "text/plain": [
       "<Figure size 432x288 with 1 Axes>"
      ]
     },
     "metadata": {
      "needs_background": "light"
     },
     "output_type": "display_data"
    }
   ],
   "source": [
    "plt.scatter(Y,clf.predict(X))\n",
    "plt.title(\"Actual Yi Vs Predicted Yi\")\n",
    "plt.xlabel(\"Actual Yi\")\n",
    "plt.ylabel(\"Predicted Yi\")\n",
    "plt.show()"
   ]
  },
  {
   "cell_type": "markdown",
   "metadata": {},
   "source": [
    "<h3>Compairing weights of Custom SGD with Sklearn's SGD</h3>"
   ]
  },
  {
   "cell_type": "code",
   "execution_count": 179,
   "metadata": {},
   "outputs": [
    {
     "name": "stdout",
     "output_type": "stream",
     "text": [
      "+----------+----------------------+-----------------------+\n",
      "| Features | weight of custom SGD | weight of sklearn SGD |\n",
      "+----------+----------------------+-----------------------+\n",
      "|    f1    | -1.1415400509783526  |  -0.9288534041434803  |\n",
      "|    f2    |  0.9280768640558514  |   1.0855180740541848  |\n",
      "|    f3    | 0.13713817112631482  |  0.12984315327069687  |\n",
      "|    f4    |  0.8116259919404395  |   0.6732379012855269  |\n",
      "|    f5    | -2.1008560668485896  |   -2.071016874038316  |\n",
      "|    f6    |  2.1902426015148437  |   2.672083086014879   |\n",
      "|    f7    | 0.11366874716565632  |  0.01620787179637586  |\n",
      "|    f8    |  -2.929207337842744  |  -3.0989761960219626  |\n",
      "|    f9    |  2.352415343181041   |   2.647401930512593   |\n",
      "|   f10    | -1.7750918198969137  |  -2.0857086550012975  |\n",
      "|   f11    | -1.9277983019473979  |   -2.069613449247915  |\n",
      "|   f12    |  0.837471831628346   |   0.8670442325933713  |\n",
      "|   f13    |  -4.100508708697415  |  -3.7568860822317447  |\n",
      "+----------+----------------------+-----------------------+\n"
     ]
    }
   ],
   "source": [
    "from prettytable import PrettyTable\n",
    "\n",
    "# Initializing table object\n",
    "x = PrettyTable(['Features','weight of custom SGD','weight of sklearn SGD'])\n",
    "\n",
    "# Getting weight of custom SGD\n",
    "custom_lst  = []\n",
    "for i in model.weight_vect[1:]: # model.weight_vect returns weight vectors of each feature\n",
    "                                # be careful take weights from index 1 as bo is not weight of any feature\n",
    "    custom_lst.append(i)\n",
    "    \n",
    "# Getting weight of sklearn's SGD\n",
    "sklearn_lst  = []\n",
    "for i in clf.coef_: # clf.coef_ returns weight vectors of each feature\n",
    "    sklearn_lst.append(i)\n",
    "\n",
    "\n",
    "# List containing features \n",
    "feat_lst = ['f1','f2','f3','f4','f5','f6','f7','f8','f9','f10','f11','f12','f13']\n",
    "                 \n",
    "# Combining all three lists to form a table\n",
    "for i in range(len(feat_lst)):\n",
    "    lst = []\n",
    "    lst.append(feat_lst[i])\n",
    "    lst.append(custom_lst[i])\n",
    "    lst.append(sklearn_lst[i])\n",
    "    x.add_row(lst)\n",
    "\n",
    "print(x)"
   ]
  },
  {
   "cell_type": "code",
   "execution_count": 180,
   "metadata": {},
   "outputs": [
    {
     "data": {
      "image/png": "[encoded data removed]",
      "text/plain": [
       "<Figure size 432x288 with 1 Axes>"
      ]
     },
     "metadata": {
      "needs_background": "light"
     },
     "output_type": "display_data"
    }
   ],
   "source": [
    "# printing a plot of custom weights vs sklearns's weight\n",
    "x = [-4,-3,-2,-1,0,1,2,3]\n",
    "plt.plot(x,x)\n",
    "plt.scatter(sklearn_lst,custom_lst)\n",
    "plt.title(\"Plot of custom weight vs sklearn's weight\")\n",
    "plt.xlabel(\"Sklearn's weight\")\n",
    "plt.ylabel(\"Custom weight\")\n",
    "plt.plot()\n",
    "plt.show()"
   ]
  },
  {
   "cell_type": "markdown",
   "metadata": {},
   "source": [
    "<h3>Observation</h3>"
   ]
  },
  {
   "cell_type": "markdown",
   "metadata": {},
   "source": [
    "<h4>1.The weights returned by custom SGD is very close to weights returned by Sklearn SGD </h4>\n",
    "<h4>2.In the plot above we can ssee that most of the points are very close to the straight line</h4>"
   ]
  },
  {
   "cell_type": "markdown",
   "metadata": {},
   "source": [
    "<h3>MSE of custom SGD and sklearn's SGD</h3>"
   ]
  },
  {
   "cell_type": "code",
   "execution_count": 181,
   "metadata": {},
   "outputs": [
    {
     "name": "stdout",
     "output_type": "stream",
     "text": [
      "MSE of Custom SGD 22.34230911750648\n",
      "**********************************************************\n",
      "MSE of Sklearn's SGD 21.902843787689253\n"
     ]
    }
   ],
   "source": [
    "print(\"MSE of Custom SGD\",mean_squared_error(Y,model.predict(X)))\n",
    "print(\"**********************************************************\")\n",
    "print(\"MSE of Sklearn's SGD\",mean_squared_error(Y,clf.predict(X)))"
   ]
  },
  {
   "cell_type": "markdown",
   "metadata": {},
   "source": [
    "<h3>Conclusion</h3>"
   ]
  },
  {
   "cell_type": "markdown",
   "metadata": {},
   "source": [
    "<h4>1. The plot of custom SGD predicted yi vs actual yi and of sklearn SGD predicted yi vs actual yi are almost similar.</h4>\n",
    "<h4>2. The weights returned by custom SGD and sklearn SGD are very close as can be seen in the plot. Most of the points are very close to the dtraight line.</h4>\n",
    "<h4>3. The MSE of custom SGD and sklearn SGD are very close . To be precise custom SGD's MSE is slightly less than that of sklearn SGD.</h4>"
   ]
  },
  {
   "cell_type": "code",
   "execution_count": null,
   "metadata": {},
   "outputs": [],
   "source": []
  }
 ],
 "metadata": {
  "colab": {
   "name": "Untitled3.ipynb",
   "provenance": [],
   "version": "0.3.2"
  },
  "kernelspec": {
   "display_name": "Python 3",
   "language": "python",
   "name": "python3"
  },
  "language_info": {
   "codemirror_mode": {
    "name": "ipython",
    "version": 3
   },
   "file_extension": ".py",
   "mimetype": "text/x-python",
   "name": "python",
   "nbconvert_exporter": "python",
   "pygments_lexer": "ipython3",
   "version": "3.6.3rc1"
  }
 },
 "nbformat": 4,
 "nbformat_minor": 1
}
